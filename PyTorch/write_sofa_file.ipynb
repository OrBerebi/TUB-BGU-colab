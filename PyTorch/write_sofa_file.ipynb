{
 "cells": [
  {
   "cell_type": "code",
   "execution_count": 1,
   "id": "dfdc9242-af9d-42ef-895d-5d4b6c6e116c",
   "metadata": {},
   "outputs": [
    {
     "name": "stdout",
     "output_type": "stream",
     "text": [
      "Available SOFA conventions:\n",
      "SimpleFreeFieldHRTF (Version 1.0)\n",
      "FreeFieldHRIR (Version 1.0)\n",
      "FreeFieldDirectivityTF (Version 1.1)\n",
      "GeneralTF-E (Version 1.0)\n",
      "GeneralTF (Version 2.0)\n",
      "SimpleHeadphoneIR (Version 1.0)\n",
      "SimpleFreeFieldHRSOS (Version 1.0)\n",
      "GeneralSOS (Version 1.0)\n",
      "SimpleFreeFieldSOS (Version 1.0)\n",
      "GeneralFIR (Version 1.0)\n",
      "GeneralFIR-E (Version 2.0)\n",
      "SingleRoomMIMOSRIR (Version 1.0)\n",
      "SimpleFreeFieldHRIR (Version 1.0)\n",
      "FreeFieldHRTF (Version 1.0)\n",
      "GeneralTF (Version 1.0)\n",
      "SingleRoomSRIR (Version 1.0)\n",
      "FreeFieldDirectivityTF (Version 1.0)\n",
      "SingleRoomDRIR (Version 0.2)\n",
      "SimpleHeadphoneIR (Version 0.2)\n",
      "GeneralFIRE (Version 1.0)\n",
      "SingleRoomDRIR (Version 0.3)\n",
      "SimpleFreeFieldTF (Version 0.4)\n",
      "SimpleFreeFieldTF (Version 1.0)\n",
      "MultiSpeakerBRIR (Version 0.3)\n",
      "SimpleFreeFieldHRIR (Version 0.4)\n",
      "SimpleHeadphoneIR (Version 0.1)\n",
      "\n"
     ]
    }
   ],
   "source": [
    "import sofar as sf\n",
    "sf.list_conventions()"
   ]
  },
  {
   "cell_type": "code",
   "execution_count": 2,
   "id": "1e7b45d9-22bf-4779-a258-72148e755928",
   "metadata": {},
   "outputs": [
    {
     "name": "stdout",
     "output_type": "stream",
     "text": [
      "R = 2 receiver (set by ReceiverPosition of dimension RCI, RCM)\n",
      "E = 1 emitter (set by EmitterPosition of dimension ECI, ECM)\n",
      "M = 1 measurements (set by Data_IR of dimension MRN)\n",
      "N = 1 samples (set by Data_IR of dimension MRN)\n",
      "C = 3 coordinate dimensions, fixed\n",
      "I = 1 single dimension, fixed\n",
      "S = 0 maximum string length\n",
      "\n"
     ]
    }
   ],
   "source": [
    "sofa = sf.Sofa(\"SimpleFreeFieldHRIR\")\n",
    "\n",
    "sofa.list_dimensions"
   ]
  },
  {
   "cell_type": "code",
   "execution_count": null,
   "id": "625a4544-7826-4da6-bfce-cc7a8b414c49",
   "metadata": {},
   "outputs": [],
   "source": []
  },
  {
   "cell_type": "code",
   "execution_count": null,
   "id": "ec0037dd-7a4b-4f90-8e14-93d7483fbd46",
   "metadata": {},
   "outputs": [],
   "source": []
  },
  {
   "cell_type": "code",
   "execution_count": null,
   "id": "f9b03737-21f1-43a4-a5f7-f5d23ad97f78",
   "metadata": {},
   "outputs": [],
   "source": []
  }
 ],
 "metadata": {
  "kernelspec": {
   "display_name": "Python 3 (ipykernel)",
   "language": "python",
   "name": "python3"
  },
  "language_info": {
   "codemirror_mode": {
    "name": "ipython",
    "version": 3
   },
   "file_extension": ".py",
   "mimetype": "text/x-python",
   "name": "python",
   "nbconvert_exporter": "python",
   "pygments_lexer": "ipython3",
   "version": "3.10.14"
  }
 },
 "nbformat": 4,
 "nbformat_minor": 5
}
